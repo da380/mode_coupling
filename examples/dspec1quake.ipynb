{
 "cells": [
  {
   "cell_type": "code",
   "execution_count": 2,
   "metadata": {},
   "outputs": [],
   "source": [
    "import numpy as np\n",
    "import os"
   ]
  },
  {
   "cell_type": "code",
   "execution_count": 21,
   "metadata": {},
   "outputs": [],
   "source": [
    "# User-defined variables\n",
    "# frequency band for coupling \n",
    "freq_min_mhz = 0\n",
    "freq_max_mhz = 2\n",
    "\n",
    "# Degree of heterogeneity for structural coupling\n",
    "sh_min_degree = 0\n",
    "sh_max_degree = 20\n",
    "\n",
    "# set the number of processors\n",
    "njob = 4\n"
   ]
  },
  {
   "cell_type": "code",
   "execution_count": 13,
   "metadata": {},
   "outputs": [
    {
     "name": "stdout",
     "output_type": "stream",
     "text": [
      "  number of spheroidal multiplets =            0\r\n",
      "  number of spheroidal singlets =            0\r\n",
      "  number of toroidal multiplets =            0\r\n",
      "  number of toroidal singlets =            0\r\n",
      "  number of multiplets =            0\r\n",
      "  number of singlets =            0\r\n",
      "  maximum degree =            0\r\n"
     ]
    }
   ],
   "source": [
    "# Create a list of modes within a frequency band\n",
    "!../bin/mode_list -fmin $freq_max_mhz -fmax $freq_max_mhz"
   ]
  },
  {
   "cell_type": "code",
   "execution_count": 15,
   "metadata": {},
   "outputs": [
    {
     "name": "stdout",
     "output_type": "stream",
     "text": [
      "         222\n",
      "  writing out coupling matrices\n",
      " nelem =            0\n"
     ]
    }
   ],
   "source": [
    "#Create coupling matrices\n",
    "!../bin/mdcpl -smin $sh_min_degree -smax $sh_max_degree"
   ]
  },
  {
   "cell_type": "code",
   "execution_count": 24,
   "metadata": {},
   "outputs": [
    {
     "name": "stdout",
     "output_type": "stream",
     "text": [
      "PDE  1994  6  9  0 33 16.40 -13.8300  -67.5600 637.0 6.9 6.8 ORTHERN BOLIVIA         \r\n",
      "time shift:     29.0000\r\n",
      "triangular time function\r\n",
      "half duration:  20.0000\r\n",
      "latitude:      -13.8200\r\n",
      "longitude:     -67.2500\r\n",
      "depth:         647.1000\r\n",
      "Mrr:      -0.759000E+28\r\n",
      "Mtt:       0.775000E+28\r\n",
      "Mpp:      -0.160000E+27\r\n",
      "Mrt:      -0.250300E+29\r\n",
      "Mrp:       0.420000E+27\r\n",
      "Mtp:      -0.248000E+28\r\n",
      " tout =    128.00000000000000     \r\n",
      " dt =    20.000000000000000     \r\n",
      " nt =       131072\r\n",
      " nt*dt =    728.17777777777781     \r\n"
     ]
    }
   ],
   "source": [
    "# Variation of dspec_pre\n",
    "!../bin/QnmS -L dspec.rec"
   ]
  },
  {
   "cell_type": "code",
   "execution_count": 26,
   "metadata": {},
   "outputs": [],
   "source": [
    "for ii in range(njob):\n",
    "    os.system('../bin/dspec_cal -j '+str(ii)+'> dspec_cal.out.'+str(ii)+' &')"
   ]
  },
  {
   "cell_type": "code",
   "execution_count": 18,
   "metadata": {},
   "outputs": [
    {
     "name": "stdout",
     "output_type": "stream",
     "text": [
      " padded time =   11650.844444444445     \r\n"
     ]
    }
   ],
   "source": [
    "!../bin/dspec_pro -t $njob"
   ]
  },
  {
   "cell_type": "code",
   "execution_count": null,
   "metadata": {},
   "outputs": [],
   "source": []
  }
 ],
 "metadata": {
  "kernelspec": {
   "display_name": "Python 3",
   "language": "python",
   "name": "python3"
  },
  "language_info": {
   "codemirror_mode": {
    "name": "ipython",
    "version": 3
   },
   "file_extension": ".py",
   "mimetype": "text/x-python",
   "name": "python",
   "nbconvert_exporter": "python",
   "pygments_lexer": "ipython3",
   "version": "3.6.5"
  }
 },
 "nbformat": 4,
 "nbformat_minor": 2
}
